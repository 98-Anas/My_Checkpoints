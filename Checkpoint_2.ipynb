{
 "cells": [
  {
   "cell_type": "markdown",
   "id": "ea6cc0a3",
   "metadata": {},
   "source": [
    "### Question 1"
   ]
  },
  {
   "cell_type": "code",
   "execution_count": 16,
   "id": "37042f56",
   "metadata": {
    "ExecuteTime": {
     "end_time": "2021-08-06T09:35:40.157833Z",
     "start_time": "2021-08-06T09:35:40.145716Z"
    }
   },
   "outputs": [
    {
     "name": "stdout",
     "output_type": "stream",
     "text": [
      "['2002', '2009', '2016', '2023', '2037', '2044', '2051', '2058', '2072', '2079', '2086', '2093', '2107', '2114', '2121', '2128', '2142', '2149', '2156', '2163', '2177', '2184', '2191', '2198', '2212', '2219', '2226', '2233', '2247', '2254', '2261', '2268', '2282', '2289', '2296', '2303', '2317', '2324', '2331', '2338', '2352', '2359', '2366', '2373', '2387', '2394', '2401', '2408', '2422', '2429', '2436', '2443', '2457', '2464', '2471', '2478', '2492', '2499', '2506', '2513', '2527', '2534', '2541', '2548', '2562', '2569', '2576', '2583', '2597', '2604', '2611', '2618', '2632', '2639', '2646', '2653', '2667', '2674', '2681', '2688', '2702', '2709', '2716', '2723', '2737', '2744', '2751', '2758', '2772', '2779', '2786', '2793', '2807', '2814', '2821', '2828', '2842', '2849', '2856', '2863', '2877', '2884', '2891', '2898', '2912', '2919', '2926', '2933', '2947', '2954', '2961', '2968', '2982', '2989', '2996', '3003', '3017', '3024', '3031', '3038', '3052', '3059', '3066', '3073', '3087', '3094', '3101', '3108', '3122', '3129', '3136', '3143', '3157', '3164', '3171', '3178', '3192', '3199']\n"
     ]
    }
   ],
   "source": [
    "My_list = []\n",
    "\n",
    "for element in range(2000,3201):\n",
    "    if (element % 7 == 0) and (element % 5 != 0):\n",
    "        My_list.append(str(element))\n",
    "print (My_list)"
   ]
  },
  {
   "cell_type": "markdown",
   "id": "d025400a",
   "metadata": {},
   "source": [
    "### Question 2"
   ]
  },
  {
   "cell_type": "code",
   "execution_count": 2,
   "id": "8b072215",
   "metadata": {
    "ExecuteTime": {
     "end_time": "2021-08-06T08:24:54.040244Z",
     "start_time": "2021-08-06T08:24:51.547880Z"
    },
    "code_folding": []
   },
   "outputs": [
    {
     "name": "stdout",
     "output_type": "stream",
     "text": [
      "Please enter a number to get it's factorial: 3\n",
      "The factorial of  3  is  6\n"
     ]
    }
   ],
   "source": [
    "def Factorial(number):\n",
    "\n",
    "    if (number == 1) or (number == 0):\n",
    "        print(\"The factorial of \", number, \" is \", 1)\n",
    "\n",
    "    else:\n",
    "        fact = 1\n",
    "        x = number\n",
    "        while number > 1:\n",
    "            fact *= number\n",
    "            number -= 1\n",
    "        print(\"The factorial of \", x, \" is \", fact)\n",
    "\n",
    "\n",
    "Factorial(int(input(\"Please enter a number to get it's factorial: \")))"
   ]
  },
  {
   "cell_type": "markdown",
   "id": "29e6f089",
   "metadata": {},
   "source": [
    "### Question 3"
   ]
  },
  {
   "cell_type": "code",
   "execution_count": 5,
   "id": "830be42c",
   "metadata": {
    "ExecuteTime": {
     "end_time": "2021-08-06T08:32:55.115548Z",
     "start_time": "2021-08-06T08:32:53.095021Z"
    }
   },
   "outputs": [
    {
     "name": "stdout",
     "output_type": "stream",
     "text": [
      "Input a number 8\n",
      "{1: 1, 2: 4, 3: 9, 4: 16, 5: 25, 6: 36, 7: 49, 8: 64}\n"
     ]
    }
   ],
   "source": [
    "n=int(input(\"Input a number: \"))\n",
    "My_dictionary = dict()\n",
    "\n",
    "for i in range(1,n+1):\n",
    "    My_dictionary[i] = i*i\n",
    "\n",
    "print(My_dictionary) "
   ]
  },
  {
   "cell_type": "markdown",
   "id": "5f48601b",
   "metadata": {},
   "source": [
    "### Question 4"
   ]
  },
  {
   "cell_type": "code",
   "execution_count": 6,
   "id": "138fff0d",
   "metadata": {
    "ExecuteTime": {
     "end_time": "2021-08-06T09:11:42.108224Z",
     "start_time": "2021-08-06T09:11:42.102244Z"
    }
   },
   "outputs": [
    {
     "name": "stdout",
     "output_type": "stream",
     "text": [
      "ktten\n",
      "itten\n",
      "kittn\n"
     ]
    }
   ],
   "source": [
    "def missing_char(string, n):\n",
    "    My_list = []\n",
    "    My_list[:0] = string\n",
    "    del My_list[n]\n",
    "    print(\"\".join(My_list))\n",
    "\n",
    "\n",
    "missing_char('kitten', 1)\n",
    "missing_char('kitten', 0)\n",
    "missing_char('kitten', 4)"
   ]
  },
  {
   "cell_type": "markdown",
   "id": "a1c9a01b",
   "metadata": {},
   "source": [
    "### Question 5"
   ]
  },
  {
   "cell_type": "code",
   "execution_count": 12,
   "id": "1a34eb36",
   "metadata": {
    "ExecuteTime": {
     "end_time": "2021-08-06T09:29:53.370872Z",
     "start_time": "2021-08-06T09:29:53.362610Z"
    }
   },
   "outputs": [
    {
     "name": "stdout",
     "output_type": "stream",
     "text": [
      "Original array elements: [[0 1]\n",
      " [2 3]\n",
      " [4 5]]\n",
      "Array to list:  [[0, 1], [2, 3], [4, 5]]\n"
     ]
    }
   ],
   "source": [
    "import numpy as np\n",
    "x= np.arange(6).reshape(3, 2)\n",
    "print(\"Original array elements:\",x)\n",
    "print(\"Array to list: \", x.tolist())"
   ]
  },
  {
   "cell_type": "markdown",
   "id": "177c854e",
   "metadata": {},
   "source": [
    "### Question 6"
   ]
  },
  {
   "cell_type": "code",
   "execution_count": 24,
   "id": "5f6464e1",
   "metadata": {
    "ExecuteTime": {
     "end_time": "2021-08-06T09:48:13.416200Z",
     "start_time": "2021-08-06T09:48:13.398316Z"
    }
   },
   "outputs": [
    {
     "name": "stdout",
     "output_type": "stream",
     "text": [
      "Original array1:  [0 1 2]\n",
      "Original array1:  [2 1 0]\n",
      "Covariance matrix of the said arrays:\n",
      " [[ 1. -1.]\n",
      " [-1.  1.]]\n"
     ]
    }
   ],
   "source": [
    "import numpy as np\n",
    "array1 = np.array([0, 1, 2])\n",
    "array2 = np.array([2, 1, 0])\n",
    "print(\"Original array1: \",array1)\n",
    "print(\"Original array1: \",array2)\n",
    "print(\"Covariance matrix of the said arrays:\\n\",np.cov(array1 , array2))"
   ]
  },
  {
   "cell_type": "markdown",
   "id": "03b29406",
   "metadata": {},
   "source": [
    "### Question 7"
   ]
  },
  {
   "cell_type": "code",
   "execution_count": 29,
   "id": "8dc4eada",
   "metadata": {
    "ExecuteTime": {
     "end_time": "2021-08-06T11:40:24.558705Z",
     "start_time": "2021-08-06T11:40:12.003616Z"
    }
   },
   "outputs": [
    {
     "name": "stdout",
     "output_type": "stream",
     "text": [
      "Enter D: 100,150,180\n",
      "[18, 22, 24]\n"
     ]
    }
   ],
   "source": [
    "import math\n",
    "\n",
    "numbers = input(\"Enter D: \")\n",
    "numbers = numbers.split(',')\n",
    "\n",
    "result_list = []\n",
    "for D in numbers:\n",
    "    Q = round(math.sqrt(2 * 50 * int(D) / 30))\n",
    "    result_list.append(Q)\n",
    "\n",
    "print(result_list)"
   ]
  },
  {
   "cell_type": "code",
   "execution_count": null,
   "id": "ed43492f",
   "metadata": {},
   "outputs": [],
   "source": []
  }
 ],
 "metadata": {
  "kernelspec": {
   "display_name": "Python 3",
   "language": "python",
   "name": "python3"
  },
  "language_info": {
   "codemirror_mode": {
    "name": "ipython",
    "version": 3
   },
   "file_extension": ".py",
   "mimetype": "text/x-python",
   "name": "python",
   "nbconvert_exporter": "python",
   "pygments_lexer": "ipython3",
   "version": "3.8.8"
  },
  "toc": {
   "base_numbering": 1,
   "nav_menu": {},
   "number_sections": true,
   "sideBar": true,
   "skip_h1_title": false,
   "title_cell": "Table of Contents",
   "title_sidebar": "Contents",
   "toc_cell": false,
   "toc_position": {},
   "toc_section_display": true,
   "toc_window_display": false
  }
 },
 "nbformat": 4,
 "nbformat_minor": 5
}
