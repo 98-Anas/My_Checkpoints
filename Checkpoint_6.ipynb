{
 "cells": [
  {
   "cell_type": "code",
   "execution_count": 21,
   "metadata": {
    "ExecuteTime": {
     "end_time": "2021-10-11T09:58:01.102587Z",
     "start_time": "2021-10-11T09:58:01.097613Z"
    },
    "id": "7cmV-Qc1iYQc"
   },
   "outputs": [],
   "source": [
    "import math\n",
    "import operator\n",
    "import pandas as pd\n",
    "\n",
    "from sklearn.model_selection import train_test_split"
   ]
  },
  {
   "cell_type": "code",
   "execution_count": 22,
   "metadata": {
    "ExecuteTime": {
     "end_time": "2021-10-11T09:58:01.553981Z",
     "start_time": "2021-10-11T09:58:01.536024Z"
    },
    "id": "_nBn4eLSfF9d"
   },
   "outputs": [],
   "source": [
    "################\n",
    "#\n",
    "# Handling data\n",
    "#\n",
    "################\n",
    "\n",
    "iris_df = pd.read_csv(\"iris_data.csv\")\n"
   ]
  },
  {
   "cell_type": "code",
   "execution_count": 23,
   "metadata": {
    "ExecuteTime": {
     "end_time": "2021-10-11T09:58:02.721200Z",
     "start_time": "2021-10-11T09:58:02.701223Z"
    },
    "colab": {
     "base_uri": "https://localhost:8080/",
     "height": 204
    },
    "id": "CXOa4vHli4Fc",
    "outputId": "ece01cbf-a0b5-4dde-d456-ddd02cb446ae"
   },
   "outputs": [
    {
     "data": {
      "text/html": [
       "<div>\n",
       "<style scoped>\n",
       "    .dataframe tbody tr th:only-of-type {\n",
       "        vertical-align: middle;\n",
       "    }\n",
       "\n",
       "    .dataframe tbody tr th {\n",
       "        vertical-align: top;\n",
       "    }\n",
       "\n",
       "    .dataframe thead th {\n",
       "        text-align: right;\n",
       "    }\n",
       "</style>\n",
       "<table border=\"1\" class=\"dataframe\">\n",
       "  <thead>\n",
       "    <tr style=\"text-align: right;\">\n",
       "      <th></th>\n",
       "      <th>sepal length</th>\n",
       "      <th>sepal width</th>\n",
       "      <th>petal length</th>\n",
       "      <th>petal width</th>\n",
       "      <th>species</th>\n",
       "    </tr>\n",
       "  </thead>\n",
       "  <tbody>\n",
       "    <tr>\n",
       "      <th>0</th>\n",
       "      <td>5.1</td>\n",
       "      <td>3.5</td>\n",
       "      <td>1.4</td>\n",
       "      <td>0.2</td>\n",
       "      <td>Iris-setosa</td>\n",
       "    </tr>\n",
       "    <tr>\n",
       "      <th>1</th>\n",
       "      <td>4.9</td>\n",
       "      <td>3.0</td>\n",
       "      <td>1.4</td>\n",
       "      <td>0.2</td>\n",
       "      <td>Iris-setosa</td>\n",
       "    </tr>\n",
       "    <tr>\n",
       "      <th>2</th>\n",
       "      <td>4.7</td>\n",
       "      <td>3.2</td>\n",
       "      <td>1.3</td>\n",
       "      <td>0.2</td>\n",
       "      <td>Iris-setosa</td>\n",
       "    </tr>\n",
       "    <tr>\n",
       "      <th>3</th>\n",
       "      <td>4.6</td>\n",
       "      <td>3.1</td>\n",
       "      <td>1.5</td>\n",
       "      <td>0.2</td>\n",
       "      <td>Iris-setosa</td>\n",
       "    </tr>\n",
       "    <tr>\n",
       "      <th>4</th>\n",
       "      <td>5.0</td>\n",
       "      <td>3.6</td>\n",
       "      <td>1.4</td>\n",
       "      <td>0.2</td>\n",
       "      <td>Iris-setosa</td>\n",
       "    </tr>\n",
       "  </tbody>\n",
       "</table>\n",
       "</div>"
      ],
      "text/plain": [
       "   sepal length  sepal width  petal length  petal width      species\n",
       "0           5.1          3.5           1.4          0.2  Iris-setosa\n",
       "1           4.9          3.0           1.4          0.2  Iris-setosa\n",
       "2           4.7          3.2           1.3          0.2  Iris-setosa\n",
       "3           4.6          3.1           1.5          0.2  Iris-setosa\n",
       "4           5.0          3.6           1.4          0.2  Iris-setosa"
      ]
     },
     "execution_count": 23,
     "metadata": {},
     "output_type": "execute_result"
    }
   ],
   "source": [
    "iris_df.head()"
   ]
  },
  {
   "cell_type": "code",
   "execution_count": 24,
   "metadata": {
    "ExecuteTime": {
     "end_time": "2021-10-11T09:58:06.984031Z",
     "start_time": "2021-10-11T09:58:06.977064Z"
    },
    "id": "im8ZuiK-i8Wd"
   },
   "outputs": [],
   "source": [
    "train_df, test_df = train_test_split(iris_df, test_size = 0.25, random_state = 42)"
   ]
  },
  {
   "cell_type": "code",
   "execution_count": 25,
   "metadata": {
    "ExecuteTime": {
     "end_time": "2021-10-11T09:58:08.357435Z",
     "start_time": "2021-10-11T09:58:08.349455Z"
    },
    "colab": {
     "base_uri": "https://localhost:8080/"
    },
    "id": "03ox42tSnpb7",
    "outputId": "65ba1c8f-c519-4e59-d9e8-08daa8ba72ed"
   },
   "outputs": [
    {
     "data": {
      "text/plain": [
       "3.6"
      ]
     },
     "execution_count": 25,
     "metadata": {},
     "output_type": "execute_result"
    }
   ],
   "source": [
    "train_df.iloc[0][1]"
   ]
  },
  {
   "cell_type": "code",
   "execution_count": 26,
   "metadata": {
    "ExecuteTime": {
     "end_time": "2021-10-11T09:58:09.384553Z",
     "start_time": "2021-10-11T09:58:09.373594Z"
    },
    "id": "N7P5YyF1joyX"
   },
   "outputs": [],
   "source": [
    "def euclideanDistance(instance1, instance2, length):\n",
    "\n",
    "    distance_squared = 0\n",
    "    for idx in range(length):\n",
    "        distance_squared += math.pow( instance2[idx] - instance1[idx], 2)\n",
    "        \n",
    "    return math.sqrt( distance_squared )\n",
    "\n",
    "\n",
    "## No need to use Euclidean distance, since minkowski is a general case\n",
    "    # for p=1/2 minkowski distance = euclidean distance\n",
    "def minkowskiDistance(instance1,instance2, length, p=1/2):\n",
    "\n",
    "    distance_squared = 0\n",
    "    for idx in range(length):\n",
    "        distance_squared += math.pow( abs(instance2[idx] - instance1[idx]), int(1/p))\n",
    "        \n",
    "    return math.pow( distance_squared, p )\n"
   ]
  },
  {
   "cell_type": "code",
   "execution_count": 27,
   "metadata": {
    "ExecuteTime": {
     "end_time": "2021-10-11T09:58:09.958452Z",
     "start_time": "2021-10-11T09:58:09.952467Z"
    },
    "colab": {
     "base_uri": "https://localhost:8080/"
    },
    "id": "b7kba8NyxFo2",
    "outputId": "ae737140-95bc-4c7f-a53e-f83683cc8c20"
   },
   "outputs": [
    {
     "name": "stdout",
     "output_type": "stream",
     "text": [
      "5.0\n",
      "5.0\n",
      "False\n"
     ]
    }
   ],
   "source": [
    "trainInstance = [[2, 2, 2, 'a'], [4, 4, 4, 'b']]\n",
    "testInstance = [5, 5, 5]\n",
    "\n",
    "\n",
    "min_d = minkowskiDistance([2, 2, 2, 'a'], [5, 5, 5], len(testInstance)-1, 1/2)\n",
    "euc_d = euclideanDistance([2, 7, 2, 'a'], [5, 5, 5], len(testInstance)-1)\n",
    "# Are both distances equal for p=1/2?\n",
    "print( math.pow( math.pow( abs(7-2), 2.0), 1/2 ) )\n",
    "print( math.sqrt( math.pow( 7-2, 2) ) ) \n",
    "print(min_d == euc_d)"
   ]
  },
  {
   "cell_type": "code",
   "execution_count": 28,
   "metadata": {
    "ExecuteTime": {
     "end_time": "2021-10-11T09:58:10.375903Z",
     "start_time": "2021-10-11T09:58:10.371921Z"
    },
    "id": "rMEfCGpZmoLU"
   },
   "outputs": [],
   "source": [
    "\n",
    "def getNeighbors(trainingSet, testInstance, k, p = 1/2):\n",
    "\n",
    "    distances = []\n",
    "\n",
    "    length = len(testInstance)-1\n",
    "\n",
    "    for x in range(len(trainingSet)):\n",
    "\n",
    "        dist = minkowskiDistance(testInstance, trainingSet[x], length, p)\n",
    "\n",
    "        distances.append((trainingSet[x], dist))\n",
    "\n",
    "        distances.sort(key=operator.itemgetter(1))\n",
    "\n",
    "        neighbors = []\n",
    "\n",
    "    for x in range(k):\n",
    "\n",
    "        neighbors.append(distances[x][0])\n",
    "\n",
    "    return neighbors\n",
    "\n",
    "\n",
    "\n"
   ]
  },
  {
   "cell_type": "code",
   "execution_count": 29,
   "metadata": {
    "ExecuteTime": {
     "end_time": "2021-10-11T09:58:10.750853Z",
     "start_time": "2021-10-11T09:58:10.744901Z"
    },
    "colab": {
     "base_uri": "https://localhost:8080/"
    },
    "id": "ua5F5Q7SmrjJ",
    "outputId": "688ab970-b4b5-4525-9e59-62a1b0e67e64"
   },
   "outputs": [
    {
     "name": "stdout",
     "output_type": "stream",
     "text": [
      "[[4, 4, 4, 'b']]\n"
     ]
    }
   ],
   "source": [
    "trainSet = [[2, 2, 2, 'a'], [4, 4, 4, 'b']]\n",
    "testInstance = [5, 5, 5]\n",
    "k = 1\n",
    "neighbors = getNeighbors(trainSet, testInstance, 1)\n",
    "print(neighbors)\n"
   ]
  },
  {
   "cell_type": "code",
   "execution_count": 30,
   "metadata": {
    "ExecuteTime": {
     "end_time": "2021-10-11T09:58:11.249665Z",
     "start_time": "2021-10-11T09:58:11.237019Z"
    },
    "id": "atj8oOR3qle7"
   },
   "outputs": [],
   "source": [
    "def getResponse(neighbors):\n",
    "\n",
    "    classVotes = {}\n",
    "    for x in range(len(neighbors)):\n",
    "        response = neighbors[x][-1] #complete with appropriate number\n",
    "\n",
    "        if response in classVotes:\n",
    "            classVotes[response] += 1\n",
    "        else:\n",
    "            classVotes[response] = 1\n",
    "    \n",
    "\n",
    "    sortedVotes = sorted(classVotes.items(), key=operator.itemgetter(1), reverse=True)\n",
    "    # This is inaccurate in case of ties\n",
    "    return sortedVotes[0][0]\n",
    "\n",
    "\n"
   ]
  },
  {
   "cell_type": "code",
   "execution_count": 31,
   "metadata": {
    "ExecuteTime": {
     "end_time": "2021-10-11T09:58:12.637248Z",
     "start_time": "2021-10-11T09:58:12.624796Z"
    },
    "colab": {
     "base_uri": "https://localhost:8080/"
    },
    "id": "uqhZ64WUrD1z",
    "outputId": "0f9e755d-b056-4cb5-dd46-a4797d7fafd3"
   },
   "outputs": [
    {
     "name": "stdout",
     "output_type": "stream",
     "text": [
      "a\n"
     ]
    }
   ],
   "source": [
    "neighbors = [[1,1,1,'a'], [2,2,2,'a'], [3,3,3,'b']]\n",
    "\n",
    "response = getResponse(neighbors)\n",
    "\n",
    "print(response)"
   ]
  },
  {
   "cell_type": "code",
   "execution_count": 32,
   "metadata": {
    "ExecuteTime": {
     "end_time": "2021-10-11T09:58:13.195831Z",
     "start_time": "2021-10-11T09:58:13.192500Z"
    },
    "id": "WLJ32W9TsXdv"
   },
   "outputs": [],
   "source": [
    "def getAccuracy(testSet, predictions):\n",
    "\n",
    "    assert len(testSet) == len(predictions)\n",
    "\n",
    "    correct = 0\n",
    "    for idx in range(len(testSet)):\n",
    "        if testSet[idx][-1] == predictions[idx]:\n",
    "            correct += 1\n",
    "\n",
    "\n",
    "    return (correct/float(len(testSet))) * 100.0"
   ]
  },
  {
   "cell_type": "code",
   "execution_count": 33,
   "metadata": {
    "ExecuteTime": {
     "end_time": "2021-10-11T09:58:13.818059Z",
     "start_time": "2021-10-11T09:58:13.801104Z"
    },
    "colab": {
     "base_uri": "https://localhost:8080/"
    },
    "id": "avTwEUP9tcUS",
    "outputId": "fba4a74a-5d49-4656-d7ae-de8cfa24bdaf"
   },
   "outputs": [
    {
     "name": "stdout",
     "output_type": "stream",
     "text": [
      "66.66666666666666\n"
     ]
    }
   ],
   "source": [
    "testSet = [[1,1,1,'a'], [2,2,2,'a'], [3,3,3,'b']]\n",
    "\n",
    "predictions = ['a', 'a', 'a']\n",
    "\n",
    "accuracy = getAccuracy(testSet, predictions)\n",
    "\n",
    "print(accuracy)\n",
    "\n"
   ]
  },
  {
   "cell_type": "code",
   "execution_count": 48,
   "metadata": {
    "ExecuteTime": {
     "end_time": "2021-10-11T10:01:41.114466Z",
     "start_time": "2021-10-11T10:01:41.104142Z"
    },
    "id": "mr579K1Gtea_"
   },
   "outputs": [],
   "source": [
    "def main_knn_scorer(train_df, test_df,p):\n",
    "\n",
    "    predictions = []\n",
    "    test_df_resultless = test_df.drop(columns=\"species\")\n",
    "    for idx in range(len(test_df)):\n",
    "        instance_neighbours = getNeighbors(train_df.values.tolist(), test_df_resultless.iloc[idx], k=4, p=4)\n",
    "        prediction = getResponse(instance_neighbours)\n",
    "        predictions.append(prediction)\n",
    "\n",
    "   \n",
    "    return getAccuracy(test_df.values.tolist(),predictions )"
   ]
  },
  {
   "cell_type": "code",
   "execution_count": 49,
   "metadata": {
    "ExecuteTime": {
     "end_time": "2021-10-11T10:01:41.861597Z",
     "start_time": "2021-10-11T10:01:41.728950Z"
    },
    "colab": {
     "base_uri": "https://localhost:8080/"
    },
    "id": "hd6cD4MO0yWN",
    "outputId": "6259c74a-c0a2-447e-ff42-4679404a2246"
   },
   "outputs": [
    {
     "name": "stdout",
     "output_type": "stream",
     "text": [
      "Accuracy using Euclidean distance: 39.473684210526315\n",
      "Accuracy using Manhattan distance: 39.473684210526315\n",
      "Accuracy using Minkowski distance: 39.473684210526315\n"
     ]
    }
   ],
   "source": [
    "accuracy_euclidean = main_knn_scorer(train_df, test_df, p=1/2)\n",
    "accuracy_manhattan = main_knn_scorer(train_df, test_df, p=1)\n",
    "accurracy_minkowski = main_knn_scorer(train_df, test_df, p=6)\n",
    "\n",
    "print(\"Accuracy using Euclidean distance: \" + str(accuracy_euclidean))\n",
    "print(\"Accuracy using Manhattan distance: \" + str(accuracy_manhattan))\n",
    "print(\"Accuracy using Minkowski distance: \" + str(accurracy_minkowski))"
   ]
  },
  {
   "cell_type": "code",
   "execution_count": null,
   "metadata": {},
   "outputs": [],
   "source": []
  }
 ],
 "metadata": {
  "colab": {
   "authorship_tag": "ABX9TyNj7L/m7eaHhyg7fBJQvtCM",
   "include_colab_link": true,
   "name": "GMC AI 6.ipynb",
   "provenance": []
  },
  "kernelspec": {
   "display_name": "Python 3",
   "language": "python",
   "name": "python3"
  },
  "language_info": {
   "codemirror_mode": {
    "name": "ipython",
    "version": 3
   },
   "file_extension": ".py",
   "mimetype": "text/x-python",
   "name": "python",
   "nbconvert_exporter": "python",
   "pygments_lexer": "ipython3",
   "version": "3.8.8"
  },
  "toc": {
   "base_numbering": 1,
   "nav_menu": {},
   "number_sections": true,
   "sideBar": true,
   "skip_h1_title": false,
   "title_cell": "Table of Contents",
   "title_sidebar": "Contents",
   "toc_cell": false,
   "toc_position": {},
   "toc_section_display": true,
   "toc_window_display": false
  }
 },
 "nbformat": 4,
 "nbformat_minor": 1
}
